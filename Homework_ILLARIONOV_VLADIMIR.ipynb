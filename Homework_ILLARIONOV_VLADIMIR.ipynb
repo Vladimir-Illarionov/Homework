{
 "cells": [
  {
   "cell_type": "code",
   "execution_count": 91,
   "metadata": {},
   "outputs": [
    {
     "name": "stdout",
     "output_type": "stream",
     "text": [
      "Фраза 1 длиннее фразы 2\n"
     ]
    }
   ],
   "source": [
    "# Задание 1\n",
    "\n",
    "# переменная №1\n",
    "phrase_1=\"Насколько проще было бы писать программы, если бы не заказчики\"\n",
    "#  переменная №2\n",
    "phrase_2=\"40Кб должно хватить для любых задач. Билл Гейтс (по легенде)\"\n",
    "\n",
    "#  если переменная №1 больше переменной №2 то вывести Фраза 1 длиннее фразы 2\n",
    "if len(phrase_1)>len(phrase_2):\n",
    "    print(\"Фраза 1 длиннее фразы 2\")\n",
    "    \n",
    "#  если переменная №2 больше переменной №1 то вывести Фраза 2 длиннее фразы 1\n",
    "elif len(phrase_1)<len(phrase_2):\n",
    "    print(\"Фраза 2 длиннее фразы 1\")\n",
    "#  если переменная №2 равна переменной №1 то вывести Фразы равной длины \n",
    "else:\n",
    "     print(\"Фразы равной длины\")\n",
    "    "
   ]
  },
  {
   "cell_type": "code",
   "execution_count": 92,
   "metadata": {},
   "outputs": [
    {
     "name": "stdout",
     "output_type": "stream",
     "text": [
      "Обычный год\n"
     ]
    }
   ],
   "source": [
    "# Задание 2\n",
    "\n",
    "# год \n",
    "year=123\n",
    "\n",
    "if year%4==0: \n",
    "    # если год делится без остатка на 4, на 100, и на 400 то год високосный\n",
    "    if year%100==0 and year%400==0:\n",
    "        print(\"Високосный год\")\n",
    "    # если год делится без остатка на 4, на 100, но не делится на 400 то год обычный\n",
    "    elif year%100==0:\n",
    "        print(\"Обычный год\")\n",
    "    else:\n",
    "        print(\"Високосный год\")\n",
    "else:\n",
    "    print(\"Обычный год\")"
   ]
  },
  {
   "cell_type": "code",
   "execution_count": null,
   "metadata": {},
   "outputs": [],
   "source": [
    "# Задание 3\n",
    "\n",
    "# Принять от пользователя день рождения и преобразовать в тип integer\n",
    "Day=int(input(\"Введите день рождения \"))\n",
    "\n",
    "# Принять от пользователя месяц рождения\n",
    "Month=input(\"Введите месяц рождения \")\n",
    "\n",
    "if (21<=Day<=31 and Month==\"Январь\") or (1<=Day<=18 and Month==\"Февраль\"):\n",
    "    print(\"Водолей\")\n",
    "elif (19<=Day<=29 and Month==\"Февраль\") or (1<=Day<=20 and Month==\"Март\"):\n",
    "    print(\"Рыбы\")\n",
    "elif (21<=Day<=31 and Month==\"Март\") or (1<=Day<=19 and Month==\"Апрель\"):\n",
    "    print(\"Овен\")    \n",
    "elif (20<=Day<=30 and Month==\"Апрель\") or (1<=Day<=20 and Month==\"Май\"):\n",
    "    print(\"Телец\")\n",
    "elif (21<=Day<=31 and Month==\"Май\") or (1<=Day<=21 and Month==\"Июнь\"):\n",
    "    print(\"Близнецы\")\n",
    "elif (22<=Day<=30 and Month==\"Июнь\") or (1<=Day<=22 and Month==\"Июль\"):\n",
    "    print(\"Рак\")\n",
    "elif (23<=Day<=31 and Month==\"Июль\") or (1<=Day<=22 and Month==\"Август\"):\n",
    "    print(\"Лев\")\n",
    "elif (23<=Day<=31 and Month==\"Август\") or (1<=Day<=22 and Month==\"Сентябрь\"):\n",
    "    print(\"Дева\") \n",
    "elif (23<=Day<=30 and Month==\"Сентябрь\") or (1<=Day<=23 and Month==\"Октябрь\"):\n",
    "    print(\"Весы\") \n",
    "elif (24<=Day<=31 and Month==\"Октябрь\") or (1<=Day<=22 and Month==\"Ноябрь\"):\n",
    "    print(\"Скорпион\")\n",
    "elif (23<=Day<=30 and Month==\"Ноябрь\") or (1<=Day<=21 and Month==\"Декабрь\"):\n",
    "    print(\"Стрелец\")\n",
    "elif (22<=Day<=31 and Month==\"Декабрь\") or (1<=Day<=20 and Month==\"Январь\"):\n",
    "    print(\"Козерог\")\n",
    "else:\n",
    "     print(\"Неправильно введены данные\")  "
   ]
  },
  {
   "cell_type": "code",
   "execution_count": null,
   "metadata": {},
   "outputs": [],
   "source": [
    "# Задание 4\n",
    "\n",
    "# ширина коробки\n",
    "width = 16\n",
    "# длина коробки\n",
    "length = 17\n",
    "# высота коробки\n",
    "height = 23\n",
    "\n",
    "# если каждое из трех измерений менее 15 сантиметров, то вывести на экран \"Коробка №1\"\n",
    "if width<15 and length<15 and height<15:\n",
    "    print(\"Коробка №1\")\n",
    "# если длина товара больше 2 метров, то вывести \"Упаковка для лыж\"\n",
    "elif 200<width or 200<length or 200<height:\n",
    "    print(\"Упаковка для лыж\")\n",
    "# если хотя бы одно из измерений больше 15 сантиметров, но менее 50 сантиметров, то вывести \"Коробка №2\n",
    "elif 15<width<50 or 15<length<50 and 15<height<50:\n",
    "    print(\"Коробка №2\")\n",
    "# во всех остальных случаях вывести \"Стандартная коробка №3\"\n",
    "else:\n",
    "    print(\"Стандартная коробка №3\")"
   ]
  },
  {
   "cell_type": "code",
   "execution_count": null,
   "metadata": {},
   "outputs": [],
   "source": [
    "# Задание 5\n",
    "\n",
    "# номер проездного билета\n",
    "number = 111111\n",
    "\n",
    "# переменная для хранения суммы первых трех цифр\n",
    "sum_first_three=0\n",
    "# переменная для хранения суммы последних трех цифр \n",
    "sum_last_three=0\n",
    "\n",
    "\n",
    "# цикл для вычисления суммы первых трех и последних трех цифр проездного билета\n",
    "for i in range(6):\n",
    "    if i<3:\n",
    "        sum_first_three=sum_first_three+int(str(number)[i])\n",
    "    else:\n",
    "        sum_last_three=sum_last_three+int(str(number)[i])\n",
    "\n",
    "# цикл для сравнения суммы первых трех и последних трех цифр проездного билета        \n",
    "if sum_first_three==sum_last_three:\n",
    "    print(\"Счастливый билет\")\n",
    "else:\n",
    "    print(\"Несчастливый билет\")"
   ]
  },
  {
   "cell_type": "code",
   "execution_count": null,
   "metadata": {},
   "outputs": [],
   "source": [
    "# Задание 6\n",
    "\n",
    "# Принять от пользователя тип фигуры\n",
    "type_figure=input(\"Введите тип фигуры:\")\n",
    "\n",
    "# Принять от пользователя день рождения и преобразовать в тип integer\n",
    "if type_figure==\"Круг\":\n",
    "    radius_circle=int(input(\"Введите радиус круга:\"))\n",
    "    area_of_circle=3.14*radius_circle**2\n",
    "    print(\"Площадь круга:\", area_of_circle)\n",
    "elif type_figure==\"Треугольник\":\n",
    "    side_A=int(input(\"Введите длину стороны A:\"))\n",
    "    side_B=int(input(\"Введите длину стороны B:\"))\n",
    "    side_C=int(input(\"Введите длину стороны C:\"))\n",
    "    area_of_triangle=0.25*(4*(side_A**2)*(side_B**2)-(side_A**2+side_B**2-side_C**2)**2)**(0.5)\n",
    "    print(\"Площадь треугольника:\", area_of_triangle)\n",
    "elif type_figure==\"Прямоугольник\":\n",
    "    side_A=int(input(\"Введите длину стороны A:\"))\n",
    "    side_B=int(input(\"Введите длину стороны B:\"))\n",
    "    area_of_rectangle=side_A*side_B\n",
    "    print(\"Площадь прямоугольника:\",area_of_rectangle)\n",
    "else:\n",
    "    print(\"Неправильно введены данные\") "
   ]
  }
 ],
 "metadata": {
  "kernelspec": {
   "display_name": "Python 3",
   "language": "python",
   "name": "python3"
  },
  "language_info": {
   "codemirror_mode": {
    "name": "ipython",
    "version": 3
   },
   "file_extension": ".py",
   "mimetype": "text/x-python",
   "name": "python",
   "nbconvert_exporter": "python",
   "pygments_lexer": "ipython3",
   "version": "3.8.5"
  }
 },
 "nbformat": 4,
 "nbformat_minor": 4
}
