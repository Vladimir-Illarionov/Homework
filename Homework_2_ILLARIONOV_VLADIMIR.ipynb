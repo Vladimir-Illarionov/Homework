{
 "cells": [
  {
   "cell_type": "code",
   "execution_count": null,
   "metadata": {},
   "outputs": [],
   "source": [
    "# ЗАДАНИЕ № 1\n",
    "\n",
    "# переменная хранящая слово из латинских букв\n",
    "word = 'sdlfeuвm'\n",
    "\n",
    "# вычисление длины слова\n",
    "len_word = len(word)\n",
    "\n",
    "# если число букв четное то выводим две средних буквы\n",
    "if len_word % 2 == 0:\n",
    "    print(word[len_word//2 - 1], word[len_word//2], sep = \"\")\n",
    "# если число букв нечетное то выводим средюю буквы\n",
    "else:\n",
    "    print(word[len_word//2])"
   ]
  },
  {
   "cell_type": "code",
   "execution_count": null,
   "metadata": {},
   "outputs": [],
   "source": [
    "# ЗАДАНИЕ № 2\n",
    "\n",
    "# переменная для хранения суммы всех введенных чисел до первого нуля\n",
    "summa = 0\n",
    "\n",
    "for i in range(1000):\n",
    "    # переменная для хранения введенного числа\n",
    "    input_number = int(input(\"Введите число: \"))    \n",
    "    # пока введенное число не равно нулю, к сумме всех предыдущих чисел плюсуются введенное число\n",
    "    if input_number != 0:\n",
    "        summa += input_number\n",
    "    # если введенное число равно нулю, то на экран выводится значение суммы всех предыдущих чисел, а переменная для хранения \n",
    "    # суммы всех введенных чисел обнуляется\n",
    "    else:   \n",
    "        print(summa)\n",
    "        summa = 0\n"
   ]
  },
  {
   "cell_type": "code",
   "execution_count": 22,
   "metadata": {},
   "outputs": [
    {
     "name": "stdout",
     "output_type": "stream",
     "text": [
      "Идеальные пары:\n",
      "Alex Emma\n",
      "Arthur Kate\n",
      "John Kate\n",
      "Peter Kira\n",
      "Richard Liza\n"
     ]
    }
   ],
   "source": [
    "# ЗАДАНИЕ № 3\n",
    "\n",
    "boys = ['Peter', 'Alex', 'John', 'Arthur', 'Richard']\n",
    "girls = ['Kate', 'Liza', 'Kira','Kate','Emma']\n",
    "\n",
    "# Отсортируем списки boys и girls\n",
    "boys_sorted = sorted(boys)\n",
    "girls_sorted = sorted(girls)\n",
    "\n",
    "# Если длина списка boys равна длине списка girls то выводим список идеальных пар\n",
    "if len(boys_sorted) == len(girls_sorted):\n",
    "    print(\"Идеальные пары:\")\n",
    "    \n",
    "    for boy, girl in list(zip(boys_sorted, girls_sorted)):\n",
    "        print(boy, girl) \n",
    "        \n",
    "# Если длина списка boys не равна длине списка girls то выводим \"Внимание, кто-то может остаться без пары!\"\n",
    "else:\n",
    "    print(\"Внимание, кто-то может остаться без пары!\")"
   ]
  },
  {
   "cell_type": "code",
   "execution_count": 47,
   "metadata": {},
   "outputs": [
    {
     "name": "stdout",
     "output_type": "stream",
     "text": [
      "Средняя температура в странах:\n",
      "Thailand - 23.9 C\n",
      "Germany - 13.8 C\n",
      "Russia - 3.7 C\n",
      "Poland - 12.0 C\n"
     ]
    }
   ],
   "source": [
    "# ЗАДАНИЕ № 4\n",
    "\n",
    "countries_temperature = [\n",
    "[\"Thailand\", [75.2, 77, 78.8, 73.4, 68, 75.2, 77]],\n",
    "[\"Germany\", [57.2, 55.4, 59, 59, 53.6]],\n",
    "[\"Russia\", [35.6, 37.4, 39.2, 41, 42.8, 39.2, 35.6]],\n",
    "[\"Poland\", [50, 50, 53.6, 57.2, 55.4, 55.4]]\n",
    "]\n",
    "\n",
    "print(\"Средняя температура в странах:\")\n",
    "\n",
    "for i in range(len(countries_temperature)):\n",
    "    mas = countries_temperature[i][1]\n",
    "    # Вычисление средней температуры в Фаренгейтах\n",
    "    average_temperature = sum(mas)/len(mas)\n",
    "    # Вычисление средней температуры в цельсиях\n",
    "    average_temperature_in_C = (5/9)*(average_temperature - 32)\n",
    "    # вывод на экрана отсортированных чисел \n",
    "    print(countries_temperature[i][0], \"-\", \"%.1f\" % average_temperature_in_C, \"C\" )\n",
    "\n"
   ]
  },
  {
   "cell_type": "code",
   "execution_count": 58,
   "metadata": {},
   "outputs": [
    {
     "name": "stdout",
     "output_type": "stream",
     "text": [
      "Среднее количество просмотров на уникального пользователя: 23.25\n"
     ]
    }
   ],
   "source": [
    "# ЗАДАНИЕ № 5\n",
    "\n",
    "# поток логов\n",
    "stream = [\n",
    "    '2018-01-01,user1,3',\n",
    "    '2018-01-07,user1,4',\n",
    "    '2018-03-29,user1,1',\n",
    "    '2018-04-04,user1,13',\n",
    "    '2018-01-05,user2,7',\n",
    "    '2018-06-14,user3,4',\n",
    "    '2018-07-02,user3,10',\n",
    "    '2018-03-21,user4,19',\n",
    "    '2018-03-22,user4,4',\n",
    "    '2018-04-22,user4,8',\n",
    "    '2018-05-03,user4,9',\n",
    "    '2018-05-11,user4,11',\n",
    "]\n",
    "\n",
    "# переменная для хранения суммы всех просмотров\n",
    "summa = 0\n",
    "# список для хранения stream с разделенными строками\n",
    "stream_changed = []\n",
    "# список для хранения уникальных пользователей\n",
    "user_list = []\n",
    "\n",
    "for i in range(len(stream)):\n",
    "    # разделяем строки по три строки\n",
    "    stream_changed.append(stream[i].split(','))\n",
    "    \n",
    "    # находим сумму всех просмотров\n",
    "    summa += int(stream_changed[i][2])\n",
    "    \n",
    "    #находим количество уникальных пользователей\n",
    "    if (stream_changed[i][1]) not in user_list:\n",
    "        user_list.append(stream_changed[i][1])\n",
    "\n",
    "# находим среднее значение просмотров на пользователя\n",
    "average_number_of_views = summa/len(user_list)\n",
    "\n",
    "print(\"Среднее количество просмотров на уникального пользователя:\" , average_number_of_views)"
   ]
  },
  {
   "cell_type": "code",
   "execution_count": 10,
   "metadata": {},
   "outputs": [
    {
     "name": "stdout",
     "output_type": "stream",
     "text": [
      "Введите набор чисел3 4 3 2 2 1 2 3 2 1 1 22 11 222 1 78 98\n",
      "Результат:\n",
      "1\n",
      "2\n",
      "3\n"
     ]
    }
   ],
   "source": [
    "#### ЗАДАНИЕ № 6\n",
    "\n",
    "# переменная для хранения набора чисел в формате String\n",
    "set_of_numbers = input(\"Введите набор чисел\")                    \n",
    "\n",
    "# создадим пустой список для хранения введеных чисел             \n",
    "list_for_numbers = []\n",
    "\n",
    "# разобьем строку на части используя пробел как разделитель\n",
    "list_for_numbers = set_of_numbers.split(' ')\n",
    "\n",
    "# преобразуем значения из списка в тип int\n",
    "for i in range(len(list_for_numbers)):\n",
    "    list_for_numbers[i] = int(list_for_numbers[i])\n",
    "\n",
    "# отсортируем список по возрастанию        \n",
    "list_for_numbers = sorted(list_for_numbers)    \n",
    "\n",
    "# создадим пустой список для хранения чисел, повоторяющихся более одного раза\n",
    "list_for_unique_numbers = []\n",
    "\n",
    "# счетчик чтобы не добавлять в список list_for_unique_numbers повторяющиеся значения несколько раз\n",
    "chet = 0\n",
    "\n",
    "print(\"Результат:\")\n",
    "for i in range(len(list_for_numbers) - 1):\n",
    "    # если значение с индексом i равен значению с индексом i+1\n",
    "    if list_for_numbers[i] == list_for_numbers[i + 1]:\n",
    "\n",
    "        #если chet < 1 то добавляем в список list_for_unique_numbers значение списка list_for_numbers и увеличиваем счетчик на 1\n",
    "        if chet < 1:\n",
    "            list_for_unique_numbers.append(list_for_numbers[i])\n",
    "            # вывод на экрана отсортированных чисел\n",
    "            print(list_for_numbers[i])\n",
    "            chet += 1\n",
    "    else:\n",
    "        # если значение с индексом i не равно значению с индексом i+1 то зануляем счетчик\n",
    "        chet = 0\n",
    "\n"
   ]
  },
  {
   "cell_type": "code",
   "execution_count": null,
   "metadata": {},
   "outputs": [],
   "source": []
  }
 ],
 "metadata": {
  "kernelspec": {
   "display_name": "Python 3",
   "language": "python",
   "name": "python3"
  },
  "language_info": {
   "codemirror_mode": {
    "name": "ipython",
    "version": 3
   },
   "file_extension": ".py",
   "mimetype": "text/x-python",
   "name": "python",
   "nbconvert_exporter": "python",
   "pygments_lexer": "ipython3",
   "version": "3.8.5"
  }
 },
 "nbformat": 4,
 "nbformat_minor": 4
}
